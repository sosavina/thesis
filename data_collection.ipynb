{
  "nbformat": 4,
  "nbformat_minor": 0,
  "metadata": {
    "colab": {
      "provenance": [],
      "authorship_tag": "ABX9TyOvrru37H1tVFU5HOAKJ+vc"
    },
    "kernelspec": {
      "name": "python3",
      "display_name": "Python 3"
    },
    "language_info": {
      "name": "python"
    }
  },
  "cells": [
    {
      "cell_type": "code",
      "source": [
        "!pip install requests beautifulsoup4"
      ],
      "metadata": {
        "id": "pr0sO2TX0dtI"
      },
      "execution_count": null,
      "outputs": []
    },
    {
      "cell_type": "code",
      "source": [
        "import requests\n",
        "from bs4 import BeautifulSoup\n",
        "import pandas as pd\n",
        "\n",
        "# -------------------------------------------------------------------\n",
        "# FUNCTION TO SCRAPE TECH SECTOR TICKERS FROM STOCKANALYSIS.COM\n",
        "# -------------------------------------------------------------------\n",
        "def get_tickers():\n",
        "    url = \"https://stockanalysis.com/stocks/sector/technology/\"\n",
        "    headers = {\n",
        "        'User-Agent': 'Mozilla/5.0 (Windows NT 10.0; Win64; x64) AppleWebKit/537.36 (KHTML, like Gecko) Chrome/91.0.4472.124 Safari/537.36'\n",
        "    }\n",
        "\n",
        "    try:\n",
        "        response = requests.get(url, headers=headers)\n",
        "        response.raise_for_status()\n",
        "        soup = BeautifulSoup(response.text, 'html.parser')\n",
        "\n",
        "        table = soup.find('table')\n",
        "        if table is None:\n",
        "            raise ValueError(\"Could not find table on webpage\")\n",
        "\n",
        "        tickers = []\n",
        "        rows = table.find_all('tr')[1:]\n",
        "\n",
        "        for row in rows:\n",
        "            cols = row.find_all('td')\n",
        "            if cols:\n",
        "                ticker = cols[1].text.strip()\n",
        "                tickers.append(ticker)\n",
        "\n",
        "        return tickers\n",
        "\n",
        "    except Exception as e:\n",
        "        print(f\"Error scraping tickers: {str(e)}\")\n",
        "        return []\n",
        "\n",
        "# -------------------------------------------------------------------\n",
        "# EXECUTE SCRAPING FUNCTION AND SAVE OUTPUT\n",
        "# -------------------------------------------------------------------\n",
        "tickers = get_tickers()\n",
        "df = pd.DataFrame({'Ticker': tickers})\n",
        "df.to_csv('tickers.csv', index=False)"
      ],
      "metadata": {
        "id": "bHpt2bm30edH"
      },
      "execution_count": null,
      "outputs": []
    },
    {
      "cell_type": "code",
      "source": [
        "import requests\n",
        "import pandas as pd\n",
        "import time\n",
        "from datetime import datetime\n",
        "from tqdm import tqdm\n",
        "\n",
        "# -------------------------------------------------------------------\n",
        "# CLASS FOR FETCHING CASH FLOW DATA FROM SEC EDGAR API\n",
        "# -------------------------------------------------------------------\n",
        "class SECDataFetcher:\n",
        "    def __init__(self, email):\n",
        "        self.headers = {\n",
        "            'User-Agent': f'Mozilla/5.0 (Windows NT 10.0; Win64; x64) AppleWebKit/537.36 (KHTML, like Gecko) {email}'\n",
        "        }\n",
        "        self.base_url = \"https://data.sec.gov/api/xbrl/companyfacts/CIK{}.json\"\n",
        "        self.company_tickers_url = \"https://www.sec.gov/files/company_tickers.json\"\n",
        "\n",
        "    def get_cik_mapping(self):\n",
        "        response = requests.get(self.company_tickers_url, headers=self.headers)\n",
        "        data = response.json()\n",
        "        cik_map = {entry['ticker']: str(entry['cik_str']).zfill(10) for entry in data.values()}\n",
        "        return cik_map\n",
        "\n",
        "    def get_cash_flows(self, cik):\n",
        "        try:\n",
        "            url = self.base_url.format(cik)\n",
        "            response = requests.get(url, headers=self.headers)\n",
        "\n",
        "            if response.status_code != 200:\n",
        "                return None\n",
        "\n",
        "            data = response.json()\n",
        "            facts = data['facts']['us-gaap']\n",
        "\n",
        "            years = range(datetime.now().year - 5, datetime.now().year)\n",
        "            cash_flows = {year: {'Operating_CF': None, 'Investing_CF': None, 'Financing_CF': None} for year in years}\n",
        "\n",
        "            for tag, key in [\n",
        "                ('NetCashProvidedByUsedInOperatingActivities', 'Operating_CF'),\n",
        "                ('NetCashProvidedByUsedInInvestingActivities', 'Investing_CF'),\n",
        "                ('NetCashProvidedByUsedInFinancingActivities', 'Financing_CF')\n",
        "            ]:\n",
        "                if tag in facts:\n",
        "                    for entry in facts[tag].get('units', {}).get('USD', []):\n",
        "                        if 'form' in entry and entry['form'] == '10-K':\n",
        "                            year = int(entry['end'][:4])\n",
        "                            if year in cash_flows:\n",
        "                                cash_flows[year][key] = entry['val']\n",
        "\n",
        "            return cash_flows\n",
        "\n",
        "        except Exception as e:\n",
        "            print(f\"Error fetching data for CIK {cik}: {str(e)}\")\n",
        "            return None\n",
        "\n",
        "# -------------------------------------------------------------------\n",
        "# FUNCTION TO CLASSIFY LIFE CYCLE STAGES BASED ON CASH FLOW SIGNS\n",
        "# -------------------------------------------------------------------\n",
        "def classify_lifecycle(cash_flows):\n",
        "    classifications = {}\n",
        "\n",
        "    for year, flows in cash_flows.items():\n",
        "        if None in flows.values():\n",
        "            classifications[year] = \"Data Missing\"\n",
        "            continue\n",
        "\n",
        "        o, i, f = flows['Operating_CF'], flows['Investing_CF'], flows['Financing_CF']\n",
        "        o_sign = '+' if o > 0 else '-'\n",
        "        i_sign = '+' if i > 0 else '-'\n",
        "        f_sign = '+' if f > 0 else '-'\n",
        "\n",
        "        patterns = {\n",
        "            ('-', '-', '+'): \"Introduction\",\n",
        "            ('+', '-', '+'): \"Growth\",\n",
        "            ('+', '-', '-'): \"Maturity\",\n",
        "            ('+', '+', '-'): \"Shake-out\",\n",
        "            ('+', '+', '+'): \"Shake-out\",\n",
        "            ('-', '-', '-'): \"Shake-out\",\n",
        "            ('-', '+', '-'): \"Decline\",\n",
        "            ('-', '+', '+'): \"Decline\",\n",
        "        }\n",
        "\n",
        "        classifications[year] = patterns[(o_sign, i_sign, f_sign)]\n",
        "\n",
        "    return classifications\n",
        "\n",
        "# -------------------------------------------------------------------\n",
        "# MAIN EXECUTION FUNCTION\n",
        "# -------------------------------------------------------------------\n",
        "def main():\n",
        "    email = \"sofyasavina3@gmail.com\"\n",
        "    fetcher = SECDataFetcher(email)\n",
        "\n",
        "    tickers_df = pd.read_csv(\"tickers.csv\")\n",
        "    tickers = tickers_df['Ticker'].str.upper().unique().tolist()\n",
        "\n",
        "    print(\"Getting CIK mapping...\")\n",
        "    cik_map = fetcher.get_cik_mapping()\n",
        "\n",
        "    results = []\n",
        "    print(\"Fetching cash flow data for last 5 years...\")\n",
        "\n",
        "    for ticker in tqdm(tickers):\n",
        "        if ticker in cik_map:\n",
        "            cik = cik_map[ticker]\n",
        "            cash_flows = fetcher.get_cash_flows(cik)\n",
        "\n",
        "            if cash_flows:\n",
        "                classifications = classify_lifecycle(cash_flows)\n",
        "                for year in cash_flows.keys():\n",
        "                    results.append({\n",
        "                        'Ticker': ticker,\n",
        "                        'Year': year,\n",
        "                        'Life_Cycle_Stage': classifications[year],\n",
        "                        **cash_flows[year]\n",
        "                    })\n",
        "\n",
        "            time.sleep(0.1)  # Respect SEC rate limits\n",
        "\n",
        "    results_df = pd.DataFrame(results)\n",
        "    results_df.to_csv('company_lifecycles.csv', index=False)\n",
        "\n",
        "    print(\"\\nLife Cycle Stage Distribution:\")\n",
        "    print(results_df.groupby(['Year', 'Life_Cycle_Stage']).size())\n",
        "\n",
        "    return results_df\n",
        "\n",
        "# -------------------------------------------------------------------\n",
        "# RUN MAIN FUNCTION\n",
        "# -------------------------------------------------------------------\n",
        "if __name__ == \"__main__\":\n",
        "    results_df = main()"
      ],
      "metadata": {
        "id": "V2FoHPwCFOce",
        "colab": {
          "base_uri": "https://localhost:8080/"
        },
        "outputId": "68baad0d-8eea-4a87-a110-26c608b96c3d"
      },
      "execution_count": null,
      "outputs": [
        {
          "output_type": "stream",
          "name": "stdout",
          "text": [
            "Getting CIK mapping...\n",
            "Fetching cash flow data for last 5 years...\n"
          ]
        },
        {
          "output_type": "stream",
          "name": "stderr",
          "text": [
            "  1%|          | 5/775 [00:02<06:30,  1.97it/s]"
          ]
        },
        {
          "output_type": "stream",
          "name": "stdout",
          "text": [
            "Error fetching data for CIK 0001046179: 'us-gaap'\n"
          ]
        },
        {
          "output_type": "stream",
          "name": "stderr",
          "text": [
            "  1%|          | 7/775 [00:03<06:07,  2.09it/s]"
          ]
        },
        {
          "output_type": "stream",
          "name": "stdout",
          "text": [
            "Error fetching data for CIK 0001000184: 'us-gaap'\n"
          ]
        },
        {
          "output_type": "stream",
          "name": "stderr",
          "text": [
            "  5%|▌         | 41/775 [00:24<07:41,  1.59it/s]"
          ]
        },
        {
          "output_type": "stream",
          "name": "stdout",
          "text": [
            "Error fetching data for CIK 0001067491: 'us-gaap'\n"
          ]
        },
        {
          "output_type": "stream",
          "name": "stderr",
          "text": [
            "  8%|▊         | 63/775 [00:38<06:39,  1.78it/s]"
          ]
        },
        {
          "output_type": "stream",
          "name": "stdout",
          "text": [
            "Error fetching data for CIK 0001123799: 'us-gaap'\n"
          ]
        },
        {
          "output_type": "stream",
          "name": "stderr",
          "text": [
            "  9%|▊         | 66/775 [00:39<06:16,  1.88it/s]"
          ]
        },
        {
          "output_type": "stream",
          "name": "stdout",
          "text": [
            "Error fetching data for CIK 0000924613: 'us-gaap'\n"
          ]
        },
        {
          "output_type": "stream",
          "name": "stderr",
          "text": [
            " 10%|▉         | 76/775 [00:45<06:08,  1.90it/s]"
          ]
        },
        {
          "output_type": "stream",
          "name": "stdout",
          "text": [
            "Error fetching data for CIK 0001061574: 'us-gaap'\n"
          ]
        },
        {
          "output_type": "stream",
          "name": "stderr",
          "text": [
            " 12%|█▏        | 91/775 [00:54<05:43,  1.99it/s]"
          ]
        },
        {
          "output_type": "stream",
          "name": "stdout",
          "text": [
            "Error fetching data for CIK 0001709048: 'us-gaap'\n"
          ]
        },
        {
          "output_type": "stream",
          "name": "stderr",
          "text": [
            " 12%|█▏        | 93/775 [00:55<05:04,  2.24it/s]"
          ]
        },
        {
          "output_type": "stream",
          "name": "stdout",
          "text": [
            "Error fetching data for CIK 0001122411: 'us-gaap'\n"
          ]
        },
        {
          "output_type": "stream",
          "name": "stderr",
          "text": [
            " 13%|█▎        | 97/775 [00:58<07:41,  1.47it/s]"
          ]
        },
        {
          "output_type": "stream",
          "name": "stdout",
          "text": [
            "Error fetching data for CIK 0001033767: 'us-gaap'\n"
          ]
        },
        {
          "output_type": "stream",
          "name": "stderr",
          "text": [
            " 21%|██        | 164/775 [01:32<04:24,  2.31it/s]"
          ]
        },
        {
          "output_type": "stream",
          "name": "stdout",
          "text": [
            "Error fetching data for CIK 0001836470: 'us-gaap'\n"
          ]
        },
        {
          "output_type": "stream",
          "name": "stderr",
          "text": [
            " 25%|██▌       | 196/775 [01:48<04:35,  2.10it/s]"
          ]
        },
        {
          "output_type": "stream",
          "name": "stdout",
          "text": [
            "Error fetching data for CIK 0001557860: 'us-gaap'\n"
          ]
        },
        {
          "output_type": "stream",
          "name": "stderr",
          "text": [
            " 33%|███▎      | 257/775 [02:18<03:13,  2.68it/s]"
          ]
        },
        {
          "output_type": "stream",
          "name": "stdout",
          "text": [
            "Error fetching data for CIK 0001867729: 'us-gaap'\n"
          ]
        },
        {
          "output_type": "stream",
          "name": "stderr",
          "text": [
            " 34%|███▍      | 264/775 [02:22<03:47,  2.25it/s]"
          ]
        },
        {
          "output_type": "stream",
          "name": "stdout",
          "text": [
            "Error fetching data for CIK 0001712807: 'us-gaap'\n"
          ]
        },
        {
          "output_type": "stream",
          "name": "stderr",
          "text": [
            " 34%|███▍      | 267/775 [02:23<03:45,  2.25it/s]"
          ]
        },
        {
          "output_type": "stream",
          "name": "stdout",
          "text": [
            "Error fetching data for CIK 0001846832: 'us-gaap'\n"
          ]
        },
        {
          "output_type": "stream",
          "name": "stderr",
          "text": [
            " 38%|███▊      | 298/775 [02:40<03:29,  2.27it/s]"
          ]
        },
        {
          "output_type": "stream",
          "name": "stdout",
          "text": [
            "Error fetching data for CIK 0001799983: 'us-gaap'\n"
          ]
        },
        {
          "output_type": "stream",
          "name": "stderr",
          "text": [
            " 41%|████      | 318/775 [02:51<03:28,  2.19it/s]"
          ]
        },
        {
          "output_type": "stream",
          "name": "stdout",
          "text": [
            "Error fetching data for CIK 0001901279: 'us-gaap'\n"
          ]
        },
        {
          "output_type": "stream",
          "name": "stderr",
          "text": [
            " 42%|████▏     | 322/775 [02:53<03:21,  2.25it/s]"
          ]
        },
        {
          "output_type": "stream",
          "name": "stdout",
          "text": [
            "Error fetching data for CIK 0001899123: 'us-gaap'\n"
          ]
        },
        {
          "output_type": "stream",
          "name": "stderr",
          "text": [
            " 42%|████▏     | 325/775 [02:54<02:59,  2.51it/s]"
          ]
        },
        {
          "output_type": "stream",
          "name": "stdout",
          "text": [
            "Error fetching data for CIK 0001823306: 'us-gaap'\n"
          ]
        },
        {
          "output_type": "stream",
          "name": "stderr",
          "text": [
            " 43%|████▎     | 332/775 [02:57<03:10,  2.32it/s]"
          ]
        },
        {
          "output_type": "stream",
          "name": "stdout",
          "text": [
            "Error fetching data for CIK 0001828102: 'us-gaap'\n"
          ]
        },
        {
          "output_type": "stream",
          "name": "stderr",
          "text": [
            " 45%|████▌     | 352/775 [03:07<03:25,  2.06it/s]"
          ]
        },
        {
          "output_type": "stream",
          "name": "stdout",
          "text": [
            "Error fetching data for CIK 0001656081: 'us-gaap'\n"
          ]
        },
        {
          "output_type": "stream",
          "name": "stderr",
          "text": [
            " 47%|████▋     | 364/775 [03:13<03:00,  2.28it/s]"
          ]
        },
        {
          "output_type": "stream",
          "name": "stdout",
          "text": [
            "Error fetching data for CIK 0001793663: 'us-gaap'\n"
          ]
        },
        {
          "output_type": "stream",
          "name": "stderr",
          "text": [
            " 51%|█████     | 394/775 [03:27<02:45,  2.30it/s]"
          ]
        },
        {
          "output_type": "stream",
          "name": "stdout",
          "text": [
            "Error fetching data for CIK 0001868995: 'us-gaap'\n"
          ]
        },
        {
          "output_type": "stream",
          "name": "stderr",
          "text": [
            " 51%|█████     | 397/775 [03:29<03:16,  1.92it/s]"
          ]
        },
        {
          "output_type": "stream",
          "name": "stdout",
          "text": [
            "Error fetching data for CIK 0001825155: 'us-gaap'\n"
          ]
        },
        {
          "output_type": "stream",
          "name": "stderr",
          "text": [
            " 62%|██████▏   | 477/775 [04:05<02:22,  2.09it/s]"
          ]
        },
        {
          "output_type": "stream",
          "name": "stdout",
          "text": [
            "Error fetching data for CIK 0001091223: 'us-gaap'\n"
          ]
        },
        {
          "output_type": "stream",
          "name": "stderr",
          "text": [
            "\r 62%|██████▏   | 478/775 [04:05<02:16,  2.17it/s]"
          ]
        },
        {
          "output_type": "stream",
          "name": "stdout",
          "text": [
            "Error fetching data for CIK 0001866030: 'us-gaap'\n"
          ]
        },
        {
          "output_type": "stream",
          "name": "stderr",
          "text": [
            " 65%|██████▌   | 505/775 [04:18<02:05,  2.15it/s]"
          ]
        },
        {
          "output_type": "stream",
          "name": "stdout",
          "text": [
            "Error fetching data for CIK 0001859690: 'us-gaap'\n"
          ]
        },
        {
          "output_type": "stream",
          "name": "stderr",
          "text": [
            " 66%|██████▌   | 511/775 [04:20<01:46,  2.49it/s]"
          ]
        },
        {
          "output_type": "stream",
          "name": "stdout",
          "text": [
            "Error fetching data for CIK 0001915403: 'us-gaap'\n"
          ]
        },
        {
          "output_type": "stream",
          "name": "stderr",
          "text": [
            " 66%|██████▌   | 513/775 [04:21<01:36,  2.71it/s]"
          ]
        },
        {
          "output_type": "stream",
          "name": "stdout",
          "text": [
            "Error fetching data for CIK 0001899830: 'us-gaap'\n"
          ]
        },
        {
          "output_type": "stream",
          "name": "stderr",
          "text": [
            " 67%|██████▋   | 518/775 [04:24<02:00,  2.13it/s]"
          ]
        },
        {
          "output_type": "stream",
          "name": "stdout",
          "text": [
            "Error fetching data for CIK 0001753368: 'us-gaap'\n"
          ]
        },
        {
          "output_type": "stream",
          "name": "stderr",
          "text": [
            " 71%|███████   | 551/775 [04:39<01:26,  2.59it/s]"
          ]
        },
        {
          "output_type": "stream",
          "name": "stdout",
          "text": [
            "Error fetching data for CIK 0001866501: 'us-gaap'\n"
          ]
        },
        {
          "output_type": "stream",
          "name": "stderr",
          "text": [
            " 75%|███████▍  | 580/775 [04:50<01:12,  2.67it/s]"
          ]
        },
        {
          "output_type": "stream",
          "name": "stdout",
          "text": [
            "Error fetching data for CIK 0001836934: 'us-gaap'\n"
          ]
        },
        {
          "output_type": "stream",
          "name": "stderr",
          "text": [
            " 79%|███████▉  | 611/775 [05:04<01:07,  2.42it/s]"
          ]
        },
        {
          "output_type": "stream",
          "name": "stdout",
          "text": [
            "Error fetching data for CIK 0001383395: 'us-gaap'\n"
          ]
        },
        {
          "output_type": "stream",
          "name": "stderr",
          "text": [
            " 84%|████████▍ | 651/775 [05:19<00:41,  2.95it/s]"
          ]
        },
        {
          "output_type": "stream",
          "name": "stdout",
          "text": [
            "Error fetching data for CIK 0001875609: 'us-gaap'\n"
          ]
        },
        {
          "output_type": "stream",
          "name": "stderr",
          "text": [
            " 85%|████████▌ | 659/775 [05:22<00:41,  2.82it/s]"
          ]
        },
        {
          "output_type": "stream",
          "name": "stdout",
          "text": [
            "Error fetching data for CIK 0001963439: 'us-gaap'\n"
          ]
        },
        {
          "output_type": "stream",
          "name": "stderr",
          "text": [
            " 86%|████████▌ | 666/775 [05:26<00:47,  2.31it/s]"
          ]
        },
        {
          "output_type": "stream",
          "name": "stdout",
          "text": [
            "Error fetching data for CIK 0001930179: 'us-gaap'\n"
          ]
        },
        {
          "output_type": "stream",
          "name": "stderr",
          "text": [
            " 87%|████████▋ | 674/775 [05:29<00:48,  2.10it/s]"
          ]
        },
        {
          "output_type": "stream",
          "name": "stdout",
          "text": [
            "Error fetching data for CIK 0001905660: 'us-gaap'\n"
          ]
        },
        {
          "output_type": "stream",
          "name": "stderr",
          "text": [
            " 88%|████████▊ | 685/775 [05:34<00:33,  2.65it/s]"
          ]
        },
        {
          "output_type": "stream",
          "name": "stdout",
          "text": [
            "Error fetching data for CIK 0001965143: 'us-gaap'\n"
          ]
        },
        {
          "output_type": "stream",
          "name": "stderr",
          "text": [
            " 90%|████████▉ | 697/775 [05:39<00:27,  2.81it/s]"
          ]
        },
        {
          "output_type": "stream",
          "name": "stdout",
          "text": [
            "Error fetching data for CIK 0001981462: 'us-gaap'\n"
          ]
        },
        {
          "output_type": "stream",
          "name": "stderr",
          "text": [
            " 92%|█████████▏| 712/775 [05:44<00:22,  2.79it/s]"
          ]
        },
        {
          "output_type": "stream",
          "name": "stdout",
          "text": [
            "Error fetching data for CIK 0001681348: 'us-gaap'\n"
          ]
        },
        {
          "output_type": "stream",
          "name": "stderr",
          "text": [
            " 93%|█████████▎| 717/775 [05:46<00:20,  2.86it/s]"
          ]
        },
        {
          "output_type": "stream",
          "name": "stdout",
          "text": [
            "Error fetching data for CIK 0001964630: 'us-gaap'\n"
          ]
        },
        {
          "output_type": "stream",
          "name": "stderr",
          "text": [
            " 93%|█████████▎| 723/775 [05:49<00:19,  2.65it/s]"
          ]
        },
        {
          "output_type": "stream",
          "name": "stdout",
          "text": [
            "Error fetching data for CIK 0001976443: 'us-gaap'\n"
          ]
        },
        {
          "output_type": "stream",
          "name": "stderr",
          "text": [
            "100%|██████████| 775/775 [06:11<00:00,  2.09it/s]"
          ]
        },
        {
          "output_type": "stream",
          "name": "stdout",
          "text": [
            "Error fetching data for CIK 0001888151: 'us-gaap'\n",
            "\n",
            "Life Cycle Stage Distribution:\n",
            "Year  Life_Cycle_Stage\n",
            "2020  Data Missing        200\n",
            "      Decline              25\n",
            "      Growth              125\n",
            "      Introduction        140\n",
            "      Maturity            173\n",
            "      Shake-out            49\n",
            "2021  Data Missing        154\n",
            "      Decline              25\n",
            "      Growth              148\n",
            "      Introduction        163\n",
            "      Maturity            183\n",
            "      Shake-out            39\n",
            "2022  Data Missing        146\n",
            "      Decline              47\n",
            "      Growth               98\n",
            "      Introduction        133\n",
            "      Maturity            196\n",
            "      Shake-out            92\n",
            "2023  Data Missing        141\n",
            "      Decline              58\n",
            "      Growth               95\n",
            "      Introduction         91\n",
            "      Maturity            247\n",
            "      Shake-out            80\n",
            "2024  Data Missing        180\n",
            "      Decline              52\n",
            "      Growth               88\n",
            "      Introduction         79\n",
            "      Maturity            239\n",
            "      Shake-out            74\n",
            "dtype: int64\n"
          ]
        },
        {
          "output_type": "stream",
          "name": "stderr",
          "text": [
            "\n"
          ]
        }
      ]
    },
    {
      "cell_type": "code",
      "execution_count": null,
      "metadata": {
        "colab": {
          "base_uri": "https://localhost:8080/"
        },
        "id": "xsdzRYqEq8cH",
        "outputId": "e820c46c-3059-411f-8b6e-f44360108ba8"
      },
      "outputs": [
        {
          "output_type": "stream",
          "name": "stderr",
          "text": [
            "100%|██████████| 775/775 [39:52<00:00,  3.09s/it]"
          ]
        },
        {
          "output_type": "stream",
          "name": "stdout",
          "text": [
            "✅ Financial ratio dataset saved to 'raw_financial_ratios.csv'\n"
          ]
        },
        {
          "output_type": "stream",
          "name": "stderr",
          "text": [
            "\n"
          ]
        }
      ],
      "source": [
        "import requests\n",
        "import pandas as pd\n",
        "import time\n",
        "from datetime import datetime\n",
        "from tqdm import tqdm\n",
        "\n",
        "# -------------------------------------------------------------------\n",
        "# CLASS FOR FETCHING MULTIPLE FINANCIAL TAGS FROM SEC EDGAR API\n",
        "# -------------------------------------------------------------------\n",
        "class SECDataFetcher:\n",
        "    def __init__(self, email):\n",
        "        self.headers = {\n",
        "            'User-Agent': f'Mozilla/5.0 (compatible; ThesisResearchBot/1.0; {email})'\n",
        "        }\n",
        "        self.base_url = \"https://data.sec.gov/api/xbrl/companyfacts/CIK{}.json\"\n",
        "        self.tickers_url = \"https://www.sec.gov/files/company_tickers.json\"\n",
        "\n",
        "    def get_cik_mapping(self):\n",
        "        response = requests.get(self.tickers_url, headers=self.headers)\n",
        "        data = response.json()\n",
        "        return {entry['ticker'].upper(): str(entry['cik_str']).zfill(10) for entry in data.values()}\n",
        "\n",
        "    def get_multi_tag_data(self, cik, tag_list):\n",
        "        url = self.base_url.format(cik)\n",
        "        response = requests.get(url, headers=self.headers)\n",
        "        if response.status_code != 200:\n",
        "            return {}\n",
        "\n",
        "        data = response.json()\n",
        "        facts = data.get('facts', {}).get('us-gaap', {})\n",
        "        results = {}\n",
        "\n",
        "        for tag in tag_list:\n",
        "            entries = facts.get(tag, {}).get('units', {}).get('USD', [])\n",
        "            for entry in entries:\n",
        "                if entry.get('form') == '10-K' and entry.get('fp') == 'FY':\n",
        "                    year = entry.get('fy')\n",
        "                    val = entry.get('val')\n",
        "                    end = entry.get('end')\n",
        "                    if year and 2019 <= year <= 2024 and val:\n",
        "                        end_dt = datetime.strptime(end, \"%Y-%m-%d\")\n",
        "                        if year not in results or end_dt > results[year]['end']:\n",
        "                            results[year] = {'val': val, 'end': end_dt}\n",
        "\n",
        "        return {year: item['val'] for year, item in results.items()}\n",
        "\n",
        "# -------------------------------------------------------------------\n",
        "# LOAD TICKERS AND INITIALIZE FETCHER\n",
        "# -------------------------------------------------------------------\n",
        "tickers_df = pd.read_csv(\"tickers.csv\")\n",
        "tickers = tickers_df['Ticker'].str.upper().unique().tolist()\n",
        "\n",
        "email = \"sofyasavina3@gmail.com\"\n",
        "fetcher = SECDataFetcher(email)\n",
        "cik_map = fetcher.get_cik_mapping()\n",
        "\n",
        "# -------------------------------------------------------------------\n",
        "# DEFINE TAGS FOR FINANCIAL VARIABLES\n",
        "# -------------------------------------------------------------------\n",
        "tags = {\n",
        "    'revenue': [\n",
        "        'RevenueFromContractWithCustomerExcludingAssessedTax',\n",
        "        'Revenues',\n",
        "        'SalesRevenueNet'\n",
        "    ],\n",
        "    'net_income': ['NetIncomeLoss'],\n",
        "    'total_assets': ['Assets'],\n",
        "    'current_assets': ['AssetsCurrent'],\n",
        "    'current_liabilities': ['LiabilitiesCurrent'],\n",
        "    'short_term_debt': [\n",
        "        'DebtCurrent',\n",
        "        'ShortTermBorrowings',\n",
        "        'CurrentPortionOfLongTermDebtAndCapitalLeaseObligations'\n",
        "    ],\n",
        "    'long_term_debt': [\n",
        "        'LongTermDebtNoncurrent',\n",
        "        'LongTermBorrowings',\n",
        "        'LongTermDebt'\n",
        "    ],\n",
        "    'other_liabilities': [\n",
        "        'OtherLiabilities',\n",
        "        'OperatingLeaseLiabilityNoncurrent',\n",
        "        'DeferredRevenueNoncurrent',\n",
        "        'DeferredTaxLiabilitiesNoncurrent'\n",
        "    ],\n",
        "    'cash': ['CashAndCashEquivalentsAtCarryingValue'],\n",
        "    'r_and_d': ['ResearchAndDevelopmentExpense'],\n",
        "    'ocf': ['NetCashProvidedByUsedInOperatingActivities'],\n",
        "    'capex': [\n",
        "        'CapitalExpenditures',\n",
        "        'PaymentsToAcquirePropertyPlantAndEquipment',\n",
        "        'PaymentsForCapitalExpenditures',\n",
        "        'CapitalExpendituresIncurredButNotYetPaid'\n",
        "    ]\n",
        "}\n",
        "\n",
        "# -------------------------------------------------------------------\n",
        "# FETCH AND CALCULATE FINANCIAL RATIOS\n",
        "# -------------------------------------------------------------------\n",
        "results = []\n",
        "\n",
        "for ticker in tqdm(tickers):\n",
        "    cik = cik_map.get(ticker)\n",
        "    if not cik:\n",
        "        continue\n",
        "\n",
        "    data = {key: fetcher.get_multi_tag_data(cik, tag) for key, tag in tags.items()}\n",
        "\n",
        "    for year in range(2020, 2025):\n",
        "        try:\n",
        "            rev = data['revenue'].get(year)\n",
        "            prev_rev = data['revenue'].get(year - 1)\n",
        "            ni = data['net_income'].get(year)\n",
        "            ta = data['total_assets'].get(year)\n",
        "            ta_prev = data['total_assets'].get(year - 1)\n",
        "            avg_assets = (ta + ta_prev) / 2 if ta and ta_prev else None\n",
        "\n",
        "            ca = data['current_assets'].get(year)\n",
        "            cl = data['current_liabilities'].get(year)\n",
        "            std = data['short_term_debt'].get(year, 0)\n",
        "            ltd = data['long_term_debt'].get(year, 0)\n",
        "            other_liab = data['other_liabilities'].get(year, 0)\n",
        "            cash = data['cash'].get(year)\n",
        "            rnd = data['r_and_d'].get(year)\n",
        "            ocf = data['ocf'].get(year)\n",
        "            capex = data['capex'].get(year)\n",
        "\n",
        "            total_debt = sum(x for x in [std, ltd, other_liab] if x is not None)\n",
        "\n",
        "            row = {\n",
        "                'ticker': ticker,\n",
        "                'year': year,\n",
        "                'revenue': rev,\n",
        "                'net_income': ni,\n",
        "                'total_assets': ta,\n",
        "                'current_ratio': ca / cl if ca and cl else None,\n",
        "                'debt_assets': total_debt / ta if total_debt and ta else None,\n",
        "                'asset_turnover': rev / avg_assets if rev and avg_assets else None,\n",
        "                'roa': ni / avg_assets if ni and avg_assets else None,\n",
        "                'revenue_growth': (rev - prev_rev) / prev_rev if rev and prev_rev else None,\n",
        "                'r_and_d_ratio': rnd / rev if rnd and rev else None,\n",
        "                'capex_ratio': capex / ta if capex and ta else None,\n",
        "                'net_income_margin': ni / rev if ni and rev else None,\n",
        "                'ocf_margin': ocf / rev if ocf and rev else None\n",
        "            }\n",
        "            results.append(row)\n",
        "        except Exception as e:\n",
        "            print(f\"Error processing {ticker} {year}: {e}\")\n",
        "\n",
        "    time.sleep(0.1)\n",
        "\n",
        "# -------------------------------------------------------------------\n",
        "# SAVE OUTPUT TO CSV\n",
        "# -------------------------------------------------------------------\n",
        "df = pd.DataFrame(results)\n",
        "df.to_csv(\"raw_financial"
      ]
    },
    {
      "cell_type": "code",
      "source": [
        "import requests\n",
        "import pandas as pd\n",
        "import time\n",
        "import yfinance as yf\n",
        "from tqdm import tqdm\n",
        "from datetime import datetime\n",
        "\n",
        "# -------------------------------------------------------------------\n",
        "# CLASS FOR FETCHING SHARES OUTSTANDING FROM SEC EDGAR API\n",
        "# -------------------------------------------------------------------\n",
        "class SECDataFetcher:\n",
        "    def __init__(self, email):\n",
        "        self.headers = {\n",
        "            'User-Agent': f'Mozilla/5.0 (compatible; {email})'\n",
        "        }\n",
        "        self.base_url = \"https://data.sec.gov/api/xbrl/companyfacts/CIK{}.json\"\n",
        "        self.company_tickers_url = \"https://www.sec.gov/files/company_tickers.json\"\n",
        "\n",
        "    def get_cik_mapping(self):\n",
        "        response = requests.get(self.company_tickers_url, headers=self.headers)\n",
        "        data = response.json()\n",
        "        return {entry['ticker']: str(entry['cik_str']).zfill(10) for entry in data.values()}\n",
        "\n",
        "    def get_shares_outstanding(self, cik):\n",
        "        try:\n",
        "            url = self.base_url.format(cik)\n",
        "            response = requests.get(url, headers=self.headers)\n",
        "            if response.status_code != 200:\n",
        "                return None\n",
        "\n",
        "            data = response.json()\n",
        "            facts = data.get('facts', {}).get('us-gaap', {})\n",
        "            shares_data = {}\n",
        "\n",
        "            for tag in ['CommonStockSharesOutstanding', 'EntityCommonStockSharesOutstanding']:\n",
        "                if tag in facts:\n",
        "                    units = facts[tag].get('units', {})\n",
        "                    for unit_type in units:\n",
        "                        if 'share' in unit_type.lower():\n",
        "                            for entry in units[unit_type]:\n",
        "                                if entry.get('form') == '10-K':\n",
        "                                    fy = int(entry.get('fy', 0))\n",
        "                                    if 2020 <= fy <= 2024:\n",
        "                                        end_date = entry['end']\n",
        "                                        shares = entry['val']\n",
        "                                        if fy not in shares_data:\n",
        "                                            shares_data[fy] = []\n",
        "                                        shares_data[fy].append(shares)\n",
        "\n",
        "            return {fy: sum(vals)/len(vals) for fy, vals in shares_data.items()} if shares_data else None\n",
        "\n",
        "        except Exception as e:\n",
        "            print(f\"Error fetching shares for CIK {cik}: {e}\")\n",
        "            return None\n",
        "\n",
        "# -------------------------------------------------------------------\n",
        "# FUNCTION TO GET AVERAGE STOCK PRICE USING YFINANCE\n",
        "# -------------------------------------------------------------------\n",
        "def get_average_price(ticker, fiscal_year):\n",
        "    try:\n",
        "        fiscal_year = int(fiscal_year)\n",
        "        end_date = datetime(fiscal_year, 12, 31)\n",
        "        start_date = end_date - pd.DateOffset(days=30)\n",
        "\n",
        "        history = yf.Ticker(ticker).history(start=start_date.strftime('%Y-%m-%d'), end=end_date.strftime('%Y-%m-%d'))\n",
        "\n",
        "        if history.empty:\n",
        "            return None\n",
        "\n",
        "        return history['Close'].mean()\n",
        "\n",
        "    except Exception as e:\n",
        "        print(f\"Error fetching average price for {ticker} in {fiscal_year}: {e}\")\n",
        "        return None\n",
        "\n",
        "# -------------------------------------------------------------------\n",
        "# FUNCTION TO CALCULATE MARKET CAP\n",
        "# -------------------------------------------------------------------\n",
        "def main():\n",
        "    email = \"sofyasavina3@gmail.com\"\n",
        "    fetcher = SECDataFetcher(email)\n",
        "    cik_map = fetcher.get_cik_mapping()\n",
        "\n",
        "    tickers_df = pd.read_csv(\"tickers.csv\")\n",
        "    tickers = tickers_df['Ticker'].str.upper().unique().tolist()\n",
        "\n",
        "    results = []\n",
        "    for ticker in tqdm(tickers):\n",
        "        if ticker not in cik_map:\n",
        "            continue\n",
        "\n",
        "        cik = cik_map[ticker]\n",
        "        shares_dict = fetcher.get_shares_outstanding(cik)\n",
        "\n",
        "        if shares_dict:\n",
        "            for fy, avg_shares in shares_dict.items():\n",
        "                avg_price = get_average_price(ticker, fy)\n",
        "                market_cap = avg_shares * avg_price if avg_price is not None else None\n",
        "                results.append({\n",
        "                    'Ticker': ticker,\n",
        "                    'Fiscal Year': fy,\n",
        "                    'Avg_Shares_Outstanding': avg_shares,\n",
        "                    'Avg_Stock_Price': avg_price,\n",
        "                    'Market_Capitalization': market_cap,\n",
        "                })\n",
        "\n",
        "        time.sleep(0.1)\n",
        "\n",
        "    df = pd.DataFrame(results)\n",
        "    df.sort_values(by=['Ticker', 'Fiscal Year'], inplace=True)\n",
        "    df.to_csv(\"market_cap.csv\", index=False)\n",
        "    print(\"✅ Saved to 'market_cap.csv'\")\n",
        "    return df\n",
        "\n",
        "# -------------------------------------------------------------------\n",
        "# RUN MAIN FUNCTION\n",
        "# -------------------------------------------------------------------\n",
        "if __name__ == \"__main__\":\n",
        "    main()"
      ],
      "metadata": {
        "id": "rqxTr7lDrXqw",
        "colab": {
          "base_uri": "https://localhost:8080/"
        },
        "outputId": "0dead43f-38c5-4f98-ef5c-0c6c33fdf679"
      },
      "execution_count": null,
      "outputs": [
        {
          "output_type": "stream",
          "name": "stderr",
          "text": [
            " 30%|███       | 236/775 [02:54<05:38,  1.59it/s]ERROR:yfinance:$SOUN: possibly delisted; no price data found  (1d 2021-12-01 -> 2021-12-31) (Yahoo error = \"Data doesn't exist for startDate = 1638334800, endDate = 1640926800\")\n",
            " 33%|███▎      | 253/775 [03:07<03:54,  2.23it/s]ERROR:yfinance:$LIF: possibly delisted; no price data found  (1d 2022-12-01 -> 2022-12-31) (Yahoo error = \"Data doesn't exist for startDate = 1669870800, endDate = 1672462800\")\n",
            "ERROR:yfinance:$LIF: possibly delisted; no price data found  (1d 2023-12-01 -> 2023-12-31) (Yahoo error = \"Data doesn't exist for startDate = 1701406800, endDate = 1703998800\")\n",
            " 37%|███▋      | 284/775 [03:31<05:12,  1.57it/s]ERROR:yfinance:$CORZ: possibly delisted; no price data found  (1d 2022-12-01 -> 2022-12-31) (Yahoo error = \"Data doesn't exist for startDate = 1669870800, endDate = 1672462800\")\n",
            "ERROR:yfinance:$CORZ: possibly delisted; no price data found  (1d 2023-12-01 -> 2023-12-31) (Yahoo error = \"Data doesn't exist for startDate = 1701406800, endDate = 1703998800\")\n",
            " 39%|███▉      | 304/775 [03:47<06:15,  1.25it/s]ERROR:yfinance:$DBD: possibly delisted; no price data found  (1d 2020-12-01 -> 2020-12-31) (Yahoo error = \"Data doesn't exist for startDate = 1606798800, endDate = 1609390800\")\n",
            "ERROR:yfinance:$DBD: possibly delisted; no price data found  (1d 2021-12-01 -> 2021-12-31) (Yahoo error = \"Data doesn't exist for startDate = 1638334800, endDate = 1640926800\")\n",
            "ERROR:yfinance:$DBD: possibly delisted; no price data found  (1d 2022-12-01 -> 2022-12-31) (Yahoo error = \"Data doesn't exist for startDate = 1669870800, endDate = 1672462800\")\n",
            " 50%|████▉     | 387/775 [04:50<04:51,  1.33it/s]ERROR:yfinance:$BBAI: possibly delisted; no price data found  (1d 2020-12-01 -> 2020-12-31) (Yahoo error = \"Data doesn't exist for startDate = 1606798800, endDate = 1609390800\")\n",
            " 69%|██████▊   | 531/775 [06:24<02:45,  1.47it/s]ERROR:yfinance:$AISPW: possibly delisted; no price data found  (1d 2023-12-01 -> 2023-12-31)\n",
            "ERROR:yfinance:$AISPW: possibly delisted; no price data found  (1d 2024-12-01 -> 2024-12-31)\n",
            " 70%|██████▉   | 542/775 [06:30<02:46,  1.40it/s]ERROR:yfinance:$NXTT: possibly delisted; no price data found  (1d 2020-12-01 -> 2020-12-31) (Yahoo error = \"Data doesn't exist for startDate = 1606798800, endDate = 1609390800\")\n",
            "ERROR:yfinance:$NXTT: possibly delisted; no price data found  (1d 2021-12-01 -> 2021-12-31) (Yahoo error = \"Data doesn't exist for startDate = 1638334800, endDate = 1640926800\")\n",
            " 71%|███████▏  | 554/775 [06:39<02:03,  1.79it/s]ERROR:yfinance:$ALMU: possibly delisted; no price data found  (1d 2022-12-01 -> 2022-12-31) (Yahoo error = \"Data doesn't exist for startDate = 1669870800, endDate = 1672462800\")\n",
            " 72%|███████▏  | 555/775 [06:40<03:19,  1.10it/s]ERROR:yfinance:$AUID: possibly delisted; no price data found  (1d 2020-12-01 -> 2020-12-31) (Yahoo error = \"Data doesn't exist for startDate = 1606798800, endDate = 1609390800\")\n",
            " 72%|███████▏  | 557/775 [06:44<04:35,  1.26s/it]ERROR:yfinance:$ODYS: possibly delisted; no price data found  (1d 2020-12-01 -> 2020-12-31) (Yahoo error = \"Data doesn't exist for startDate = 1606798800, endDate = 1609390800\")\n",
            " 74%|███████▍  | 576/775 [06:56<01:22,  2.42it/s]ERROR:yfinance:$HOLO: possibly delisted; no price data found  (1d 2021-12-01 -> 2021-12-31) (Yahoo error = \"Data doesn't exist for startDate = 1638334800, endDate = 1640926800\")\n",
            " 78%|███████▊  | 608/775 [07:17<01:30,  1.85it/s]ERROR:yfinance:$SMXT: possibly delisted; no price data found  (1d 2023-12-01 -> 2023-12-31) (Yahoo error = \"Data doesn't exist for startDate = 1701406800, endDate = 1703998800\")\n",
            " 82%|████████▏ | 634/775 [07:32<01:29,  1.58it/s]ERROR:yfinance:$AXIL: possibly delisted; no price data found  (1d 2020-12-01 -> 2020-12-31) (Yahoo error = \"Data doesn't exist for startDate = 1606798800, endDate = 1609390800\")\n",
            "ERROR:yfinance:$AXIL: possibly delisted; no price data found  (1d 2021-12-01 -> 2021-12-31) (Yahoo error = \"Data doesn't exist for startDate = 1638334800, endDate = 1640926800\")\n",
            "ERROR:yfinance:$AXIL: possibly delisted; no price data found  (1d 2022-12-01 -> 2022-12-31) (Yahoo error = \"Data doesn't exist for startDate = 1669870800, endDate = 1672462800\")\n",
            "ERROR:yfinance:$AXIL: possibly delisted; no price data found  (1d 2023-12-01 -> 2023-12-31) (Yahoo error = \"Data doesn't exist for startDate = 1701406800, endDate = 1703998800\")\n",
            " 85%|████████▌ | 659/775 [07:49<00:45,  2.55it/s]ERROR:yfinance:$AMPG: possibly delisted; no price data found  (1d 2020-12-01 -> 2020-12-31) (Yahoo error = \"Data doesn't exist for startDate = 1606798800, endDate = 1609390800\")\n",
            " 91%|█████████ | 704/775 [08:18<00:47,  1.50it/s]ERROR:yfinance:$HTCR: possibly delisted; no price data found  (1d 2021-12-01 -> 2021-12-31) (Yahoo error = \"Data doesn't exist for startDate = 1638334800, endDate = 1640926800\")\n",
            " 93%|█████████▎| 719/775 [08:26<00:38,  1.45it/s]ERROR:yfinance:$BNZI: possibly delisted; no price data found  (1d 2020-12-01 -> 2020-12-31) (Yahoo error = \"Data doesn't exist for startDate = 1606798800, endDate = 1609390800\")\n",
            " 93%|█████████▎| 723/775 [08:29<00:31,  1.64it/s]ERROR:yfinance:$SMTK: possibly delisted; no price data found  (1d 2020-12-01 -> 2020-12-31) (Yahoo error = \"Data doesn't exist for startDate = 1606798800, endDate = 1609390800\")\n",
            "ERROR:yfinance:$SMTK: possibly delisted; no price data found  (1d 2021-12-01 -> 2021-12-31) (Yahoo error = \"Data doesn't exist for startDate = 1638334800, endDate = 1640926800\")\n",
            "ERROR:yfinance:$SMTK: possibly delisted; no price data found  (1d 2022-12-01 -> 2022-12-31) (Yahoo error = \"Data doesn't exist for startDate = 1669870800, endDate = 1672462800\")\n",
            "ERROR:yfinance:$SMTK: possibly delisted; no price data found  (1d 2023-12-01 -> 2023-12-31) (Yahoo error = \"Data doesn't exist for startDate = 1701406800, endDate = 1703998800\")\n",
            " 95%|█████████▍| 733/775 [08:40<00:33,  1.24it/s]ERROR:yfinance:$CISO: possibly delisted; no price data found  (1d 2020-12-01 -> 2020-12-31) (Yahoo error = \"Data doesn't exist for startDate = 1606798800, endDate = 1609390800\")\n",
            "ERROR:yfinance:$CISO: possibly delisted; no price data found  (1d 2021-12-01 -> 2021-12-31) (Yahoo error = \"Data doesn't exist for startDate = 1638334800, endDate = 1640926800\")\n",
            " 96%|█████████▋| 747/775 [08:50<00:16,  1.72it/s]ERROR:yfinance:$CYCU: possibly delisted; no price data found  (1d 2022-12-01 -> 2022-12-31) (Yahoo error = \"Data doesn't exist for startDate = 1669870800, endDate = 1672462800\")\n",
            "ERROR:yfinance:$CYCU: possibly delisted; no price data found  (1d 2023-12-01 -> 2023-12-31) (Yahoo error = \"Data doesn't exist for startDate = 1701406800, endDate = 1703998800\")\n",
            "ERROR:yfinance:$CYCU: possibly delisted; no price data found  (1d 2024-12-01 -> 2024-12-31) (Yahoo error = \"Data doesn't exist for startDate = 1733029200, endDate = 1735621200\")\n",
            " 98%|█████████▊| 760/775 [09:04<00:13,  1.13it/s]ERROR:yfinance:$AUUD: possibly delisted; no price data found  (1d 2020-12-01 -> 2020-12-31) (Yahoo error = \"Data doesn't exist for startDate = 1606798800, endDate = 1609390800\")\n",
            " 98%|█████████▊| 762/775 [09:06<00:12,  1.04it/s]ERROR:yfinance:$ASTI: possibly delisted; no price data found  (1d 2020-12-01 -> 2020-12-31) (Yahoo error = \"Data doesn't exist for startDate = 1606798800, endDate = 1609390800\")\n",
            "ERROR:yfinance:$ASTI: possibly delisted; no price data found  (1d 2021-12-01 -> 2021-12-31) (Yahoo error = \"Data doesn't exist for startDate = 1638334800, endDate = 1640926800\")\n",
            "100%|█████████▉| 773/775 [09:15<00:01,  1.52it/s]ERROR:yfinance:$SUNE: possibly delisted; no price data found  (1d 2020-12-01 -> 2020-12-31) (Yahoo error = \"Data doesn't exist for startDate = 1606798800, endDate = 1609390800\")\n",
            "ERROR:yfinance:$SUNE: possibly delisted; no price data found  (1d 2021-12-01 -> 2021-12-31) (Yahoo error = \"Data doesn't exist for startDate = 1638334800, endDate = 1640926800\")\n",
            "100%|██████████| 775/775 [09:20<00:00,  1.38it/s]"
          ]
        },
        {
          "output_type": "stream",
          "name": "stdout",
          "text": [
            "✅ Saved to 'market_cap.csv'\n"
          ]
        },
        {
          "output_type": "stream",
          "name": "stderr",
          "text": [
            "\n"
          ]
        }
      ]
    },
    {
      "cell_type": "code",
      "source": [
        "import requests\n",
        "import pandas as pd\n",
        "import time\n",
        "import yfinance as yf\n",
        "from datetime import datetime\n",
        "from tqdm import tqdm\n",
        "\n",
        "# -------------------------------------------------------------------\n",
        "# CLASS FOR FETCHING FINANCIAL DATA FROM SEC EDGAR API\n",
        "# -------------------------------------------------------------------\n",
        "class SECDataFetcher:\n",
        "    def __init__(self, email):\n",
        "        self.headers = {\n",
        "            'User-Agent': f'Mozilla/5.0 (compatible; {email})'\n",
        "        }\n",
        "        self.base_url = \"https://data.sec.gov/api/xbrl/companyfacts/CIK{}.json\"\n",
        "        self.company_tickers_url = \"https://www.sec.gov/files/company_tickers.json\"\n",
        "\n",
        "    def get_cik_mapping(self):\n",
        "        response = requests.get(self.company_tickers_url, headers=self.headers)\n",
        "        data = response.json()\n",
        "        return {entry['ticker']: str(entry['cik_str']).zfill(10) for entry in data.values()}\n",
        "\n",
        "    def get_financials(self, cik):\n",
        "        try:\n",
        "            url = self.base_url.format(cik)\n",
        "            response = requests.get(url, headers=self.headers)\n",
        "            if response.status_code != 200:\n",
        "                return None\n",
        "\n",
        "            data = response.json()\n",
        "            facts = data['facts']['us-gaap']\n",
        "\n",
        "            financials = {year: {'TotalDebt': None, 'CashEquivalents': None} for year in range(2020, 2025)}\n",
        "\n",
        "            debt_tags = {\n",
        "                'LongTermDebtNoncurrent': 'long_term',\n",
        "                'DebtCurrent': 'short_term'\n",
        "            }\n",
        "\n",
        "            for tag, label in debt_tags.items():\n",
        "                if tag in facts:\n",
        "                    for entry in facts[tag]['units'].get('USD', []):\n",
        "                        if entry.get('form') == '10-K' and 'fy' in entry:\n",
        "                            fy = int(entry['fy'])\n",
        "                            if fy in financials:\n",
        "                                if financials[fy]['TotalDebt'] is None:\n",
        "                                    financials[fy]['TotalDebt'] = 0\n",
        "                                financials[fy]['TotalDebt'] += entry['val']\n",
        "\n",
        "            if 'CashAndCashEquivalentsAtCarryingValue' in facts:\n",
        "                for entry in facts['CashAndCashEquivalentsAtCarryingValue']['units'].get('USD', []):\n",
        "                    if entry.get('form') == '10-K' and 'fy' in entry:\n",
        "                        fy = int(entry['fy'])\n",
        "                        if fy in financials:\n",
        "                            financials[fy]['CashEquivalents'] = entry['val']\n",
        "\n",
        "            return financials\n",
        "\n",
        "        except Exception as e:\n",
        "            print(f\"Error fetching financials for CIK {cik}: {e}\")\n",
        "            return None\n",
        "\n",
        "# -------------------------------------------------------------------\n",
        "# FUNCTION TO CALCULATE ENTERPRISE VALUE\n",
        "# -------------------------------------------------------------------\n",
        "def main():\n",
        "    email = \"sofyasavina3@gmail.com\"\n",
        "    fetcher = SECDataFetcher(email)\n",
        "\n",
        "    tickers_df = pd.read_csv(\"tickers.csv\")\n",
        "    tickers = tickers_df['Ticker'].str.upper().unique().tolist()\n",
        "\n",
        "    print(\"Getting CIK mapping...\")\n",
        "    cik_map = fetcher.get_cik_mapping()\n",
        "\n",
        "    print(\"Loading Market Cap data...\")\n",
        "    market_cap_df = pd.read_csv('market_cap.csv')\n",
        "    market_cap_dict = {\n",
        "        (row['Ticker'], row['Fiscal Year']): row['Market_Capitalization']\n",
        "        for _, row in market_cap_df.iterrows()\n",
        "    }\n",
        "\n",
        "    results = []\n",
        "    print(\"Fetching Enterprise Value data for 2020–2024...\")\n",
        "    for ticker in tqdm(tickers):\n",
        "        if ticker not in cik_map:\n",
        "            continue\n",
        "\n",
        "        cik = cik_map[ticker]\n",
        "        financial_data = fetcher.get_financials(cik)\n",
        "\n",
        "        if financial_data:\n",
        "            for year in range(2020, 2025):\n",
        "                market_cap = market_cap_dict.get((ticker, year))\n",
        "                total_debt = financial_data[year]['TotalDebt']\n",
        "                cash_eq = financial_data[year]['CashEquivalents']\n",
        "\n",
        "                if market_cap is not None and total_debt is not None and cash_eq is not None:\n",
        "                    enterprise_value = market_cap + total_debt - cash_eq\n",
        "                else:\n",
        "                    enterprise_value = None\n",
        "\n",
        "                results.append({\n",
        "                    'Ticker': ticker,\n",
        "                    'Year': year,\n",
        "                    'Market_Capitalization': market_cap,\n",
        "                    'Total_Debt': total_debt,\n",
        "                    'Cash_Equivalents': cash_eq,\n",
        "                    'Enterprise_Value': enterprise_value\n",
        "                })\n",
        "\n",
        "        time.sleep(0.1)\n",
        "\n",
        "    df = pd.DataFrame(results)\n",
        "    df.to_csv('enterprise_value.csv', index=False)\n",
        "    print(\"✅ Data saved to 'enterprise_value.csv'\")\n",
        "    return df\n",
        "\n",
        "# -------------------------------------------------------------------\n",
        "# RUN MAIN FUNCTION\n",
        "# -------------------------------------------------------------------\n",
        "if __name__ == \"__main__\":\n",
        "    main()"
      ],
      "metadata": {
        "colab": {
          "base_uri": "https://localhost:8080/"
        },
        "id": "hhDcY3Wb_u-L",
        "outputId": "00578917-2d80-40b1-d1ee-b86e2d363540"
      },
      "execution_count": null,
      "outputs": [
        {
          "output_type": "stream",
          "name": "stdout",
          "text": [
            "Getting CIK mapping...\n",
            "Loading Market Cap data...\n",
            "Fetching Enterprise Value data for 2020–2024...\n"
          ]
        },
        {
          "output_type": "stream",
          "name": "stderr",
          "text": [
            "  1%|          | 5/775 [00:02<06:02,  2.13it/s]"
          ]
        },
        {
          "output_type": "stream",
          "name": "stdout",
          "text": [
            "Error fetching financials for CIK 0001046179: 'us-gaap'\n"
          ]
        },
        {
          "output_type": "stream",
          "name": "stderr",
          "text": [
            "  1%|          | 7/775 [00:03<05:10,  2.47it/s]"
          ]
        },
        {
          "output_type": "stream",
          "name": "stdout",
          "text": [
            "Error fetching financials for CIK 0001000184: 'us-gaap'\n"
          ]
        },
        {
          "output_type": "stream",
          "name": "stderr",
          "text": [
            "  5%|▌         | 41/775 [00:21<07:15,  1.69it/s]"
          ]
        },
        {
          "output_type": "stream",
          "name": "stdout",
          "text": [
            "Error fetching financials for CIK 0001067491: 'us-gaap'\n"
          ]
        },
        {
          "output_type": "stream",
          "name": "stderr",
          "text": [
            "  8%|▊         | 63/775 [00:32<04:37,  2.57it/s]"
          ]
        },
        {
          "output_type": "stream",
          "name": "stdout",
          "text": [
            "Error fetching financials for CIK 0001123799: 'us-gaap'\n"
          ]
        },
        {
          "output_type": "stream",
          "name": "stderr",
          "text": [
            "  9%|▊         | 66/775 [00:33<05:37,  2.10it/s]"
          ]
        },
        {
          "output_type": "stream",
          "name": "stdout",
          "text": [
            "Error fetching financials for CIK 0000924613: 'us-gaap'\n"
          ]
        },
        {
          "output_type": "stream",
          "name": "stderr",
          "text": [
            " 10%|▉         | 76/775 [00:38<05:00,  2.33it/s]"
          ]
        },
        {
          "output_type": "stream",
          "name": "stdout",
          "text": [
            "Error fetching financials for CIK 0001061574: 'us-gaap'\n"
          ]
        },
        {
          "output_type": "stream",
          "name": "stderr",
          "text": [
            " 12%|█▏        | 91/775 [00:46<05:22,  2.12it/s]"
          ]
        },
        {
          "output_type": "stream",
          "name": "stdout",
          "text": [
            "Error fetching financials for CIK 0001709048: 'us-gaap'\n"
          ]
        },
        {
          "output_type": "stream",
          "name": "stderr",
          "text": [
            " 12%|█▏        | 93/775 [00:46<04:50,  2.35it/s]"
          ]
        },
        {
          "output_type": "stream",
          "name": "stdout",
          "text": [
            "Error fetching financials for CIK 0001122411: 'us-gaap'\n"
          ]
        },
        {
          "output_type": "stream",
          "name": "stderr",
          "text": [
            " 13%|█▎        | 97/775 [00:48<05:31,  2.04it/s]"
          ]
        },
        {
          "output_type": "stream",
          "name": "stdout",
          "text": [
            "Error fetching financials for CIK 0001033767: 'us-gaap'\n"
          ]
        },
        {
          "output_type": "stream",
          "name": "stderr",
          "text": [
            " 21%|██        | 164/775 [01:19<04:08,  2.46it/s]"
          ]
        },
        {
          "output_type": "stream",
          "name": "stdout",
          "text": [
            "Error fetching financials for CIK 0001836470: 'us-gaap'\n"
          ]
        },
        {
          "output_type": "stream",
          "name": "stderr",
          "text": [
            " 25%|██▌       | 196/775 [01:34<03:46,  2.56it/s]"
          ]
        },
        {
          "output_type": "stream",
          "name": "stdout",
          "text": [
            "Error fetching financials for CIK 0001557860: 'us-gaap'\n"
          ]
        },
        {
          "output_type": "stream",
          "name": "stderr",
          "text": [
            " 33%|███▎      | 257/775 [02:02<03:10,  2.73it/s]"
          ]
        },
        {
          "output_type": "stream",
          "name": "stdout",
          "text": [
            "Error fetching financials for CIK 0001867729: 'us-gaap'\n"
          ]
        },
        {
          "output_type": "stream",
          "name": "stderr",
          "text": [
            " 34%|███▍      | 264/775 [02:05<03:04,  2.77it/s]"
          ]
        },
        {
          "output_type": "stream",
          "name": "stdout",
          "text": [
            "Error fetching financials for CIK 0001712807: 'us-gaap'\n"
          ]
        },
        {
          "output_type": "stream",
          "name": "stderr",
          "text": [
            " 34%|███▍      | 267/775 [02:06<03:05,  2.74it/s]"
          ]
        },
        {
          "output_type": "stream",
          "name": "stdout",
          "text": [
            "Error fetching financials for CIK 0001846832: 'us-gaap'\n"
          ]
        },
        {
          "output_type": "stream",
          "name": "stderr",
          "text": [
            " 38%|███▊      | 298/775 [02:19<02:42,  2.94it/s]"
          ]
        },
        {
          "output_type": "stream",
          "name": "stdout",
          "text": [
            "Error fetching financials for CIK 0001799983: 'us-gaap'\n"
          ]
        },
        {
          "output_type": "stream",
          "name": "stderr",
          "text": [
            " 41%|████      | 318/775 [02:29<03:20,  2.28it/s]"
          ]
        },
        {
          "output_type": "stream",
          "name": "stdout",
          "text": [
            "Error fetching financials for CIK 0001901279: 'us-gaap'\n"
          ]
        },
        {
          "output_type": "stream",
          "name": "stderr",
          "text": [
            " 42%|████▏     | 322/775 [02:31<02:51,  2.64it/s]"
          ]
        },
        {
          "output_type": "stream",
          "name": "stdout",
          "text": [
            "Error fetching financials for CIK 0001899123: 'us-gaap'\n"
          ]
        },
        {
          "output_type": "stream",
          "name": "stderr",
          "text": [
            " 42%|████▏     | 325/775 [02:32<02:29,  3.02it/s]"
          ]
        },
        {
          "output_type": "stream",
          "name": "stdout",
          "text": [
            "Error fetching financials for CIK 0001823306: 'us-gaap'\n"
          ]
        },
        {
          "output_type": "stream",
          "name": "stderr",
          "text": [
            " 43%|████▎     | 332/775 [02:35<03:15,  2.26it/s]"
          ]
        },
        {
          "output_type": "stream",
          "name": "stdout",
          "text": [
            "Error fetching financials for CIK 0001828102: 'us-gaap'\n"
          ]
        },
        {
          "output_type": "stream",
          "name": "stderr",
          "text": [
            " 45%|████▌     | 352/775 [02:44<02:47,  2.53it/s]"
          ]
        },
        {
          "output_type": "stream",
          "name": "stdout",
          "text": [
            "Error fetching financials for CIK 0001656081: 'us-gaap'\n"
          ]
        },
        {
          "output_type": "stream",
          "name": "stderr",
          "text": [
            " 47%|████▋     | 364/775 [02:50<03:06,  2.21it/s]"
          ]
        },
        {
          "output_type": "stream",
          "name": "stdout",
          "text": [
            "Error fetching financials for CIK 0001793663: 'us-gaap'\n"
          ]
        },
        {
          "output_type": "stream",
          "name": "stderr",
          "text": [
            " 51%|█████     | 394/775 [03:09<04:07,  1.54it/s]"
          ]
        },
        {
          "output_type": "stream",
          "name": "stdout",
          "text": [
            "Error fetching financials for CIK 0001868995: 'us-gaap'\n"
          ]
        },
        {
          "output_type": "stream",
          "name": "stderr",
          "text": [
            " 51%|█████     | 397/775 [03:13<06:55,  1.10s/it]"
          ]
        },
        {
          "output_type": "stream",
          "name": "stdout",
          "text": [
            "Error fetching financials for CIK 0001825155: 'us-gaap'\n"
          ]
        },
        {
          "output_type": "stream",
          "name": "stderr",
          "text": [
            " 62%|██████▏   | 477/775 [03:48<01:56,  2.56it/s]"
          ]
        },
        {
          "output_type": "stream",
          "name": "stdout",
          "text": [
            "Error fetching financials for CIK 0001091223: 'us-gaap'\n"
          ]
        },
        {
          "output_type": "stream",
          "name": "stderr",
          "text": [
            "\r 62%|██████▏   | 478/775 [03:49<01:59,  2.49it/s]"
          ]
        },
        {
          "output_type": "stream",
          "name": "stdout",
          "text": [
            "Error fetching financials for CIK 0001866030: 'us-gaap'\n"
          ]
        },
        {
          "output_type": "stream",
          "name": "stderr",
          "text": [
            " 65%|██████▌   | 505/775 [04:01<01:41,  2.66it/s]"
          ]
        },
        {
          "output_type": "stream",
          "name": "stdout",
          "text": [
            "Error fetching financials for CIK 0001859690: 'us-gaap'\n"
          ]
        },
        {
          "output_type": "stream",
          "name": "stderr",
          "text": [
            " 66%|██████▌   | 511/775 [04:03<01:30,  2.92it/s]"
          ]
        },
        {
          "output_type": "stream",
          "name": "stdout",
          "text": [
            "Error fetching financials for CIK 0001915403: 'us-gaap'\n"
          ]
        },
        {
          "output_type": "stream",
          "name": "stderr",
          "text": [
            " 66%|██████▌   | 513/775 [04:04<01:28,  2.96it/s]"
          ]
        },
        {
          "output_type": "stream",
          "name": "stdout",
          "text": [
            "Error fetching financials for CIK 0001899830: 'us-gaap'\n"
          ]
        },
        {
          "output_type": "stream",
          "name": "stderr",
          "text": [
            " 67%|██████▋   | 518/775 [04:06<01:33,  2.73it/s]"
          ]
        },
        {
          "output_type": "stream",
          "name": "stdout",
          "text": [
            "Error fetching financials for CIK 0001753368: 'us-gaap'\n"
          ]
        },
        {
          "output_type": "stream",
          "name": "stderr",
          "text": [
            " 71%|███████   | 551/775 [04:19<01:21,  2.74it/s]"
          ]
        },
        {
          "output_type": "stream",
          "name": "stdout",
          "text": [
            "Error fetching financials for CIK 0001866501: 'us-gaap'\n"
          ]
        },
        {
          "output_type": "stream",
          "name": "stderr",
          "text": [
            " 75%|███████▍  | 580/775 [04:31<01:24,  2.31it/s]"
          ]
        },
        {
          "output_type": "stream",
          "name": "stdout",
          "text": [
            "Error fetching financials for CIK 0001836934: 'us-gaap'\n"
          ]
        },
        {
          "output_type": "stream",
          "name": "stderr",
          "text": [
            " 79%|███████▉  | 611/775 [04:44<00:55,  2.94it/s]"
          ]
        },
        {
          "output_type": "stream",
          "name": "stdout",
          "text": [
            "Error fetching financials for CIK 0001383395: 'us-gaap'\n"
          ]
        },
        {
          "output_type": "stream",
          "name": "stderr",
          "text": [
            " 84%|████████▍ | 651/775 [05:00<00:41,  2.97it/s]"
          ]
        },
        {
          "output_type": "stream",
          "name": "stdout",
          "text": [
            "Error fetching financials for CIK 0001875609: 'us-gaap'\n"
          ]
        },
        {
          "output_type": "stream",
          "name": "stderr",
          "text": [
            " 85%|████████▌ | 659/775 [05:03<00:38,  3.01it/s]"
          ]
        },
        {
          "output_type": "stream",
          "name": "stdout",
          "text": [
            "Error fetching financials for CIK 0001963439: 'us-gaap'\n"
          ]
        },
        {
          "output_type": "stream",
          "name": "stderr",
          "text": [
            " 86%|████████▌ | 666/775 [05:06<00:44,  2.46it/s]"
          ]
        },
        {
          "output_type": "stream",
          "name": "stdout",
          "text": [
            "Error fetching financials for CIK 0001930179: 'us-gaap'\n"
          ]
        },
        {
          "output_type": "stream",
          "name": "stderr",
          "text": [
            " 87%|████████▋ | 674/775 [05:09<00:41,  2.44it/s]"
          ]
        },
        {
          "output_type": "stream",
          "name": "stdout",
          "text": [
            "Error fetching financials for CIK 0001905660: 'us-gaap'\n"
          ]
        },
        {
          "output_type": "stream",
          "name": "stderr",
          "text": [
            " 88%|████████▊ | 685/775 [05:13<00:29,  3.04it/s]"
          ]
        },
        {
          "output_type": "stream",
          "name": "stdout",
          "text": [
            "Error fetching financials for CIK 0001965143: 'us-gaap'\n"
          ]
        },
        {
          "output_type": "stream",
          "name": "stderr",
          "text": [
            " 90%|████████▉ | 697/775 [05:17<00:27,  2.83it/s]"
          ]
        },
        {
          "output_type": "stream",
          "name": "stdout",
          "text": [
            "Error fetching financials for CIK 0001981462: 'us-gaap'\n"
          ]
        },
        {
          "output_type": "stream",
          "name": "stderr",
          "text": [
            " 92%|█████████▏| 712/775 [05:23<00:22,  2.84it/s]"
          ]
        },
        {
          "output_type": "stream",
          "name": "stdout",
          "text": [
            "Error fetching financials for CIK 0001681348: 'us-gaap'\n"
          ]
        },
        {
          "output_type": "stream",
          "name": "stderr",
          "text": [
            " 93%|█████████▎| 717/775 [05:25<00:24,  2.39it/s]"
          ]
        },
        {
          "output_type": "stream",
          "name": "stdout",
          "text": [
            "Error fetching financials for CIK 0001964630: 'us-gaap'\n"
          ]
        },
        {
          "output_type": "stream",
          "name": "stderr",
          "text": [
            " 93%|█████████▎| 723/775 [05:27<00:19,  2.70it/s]"
          ]
        },
        {
          "output_type": "stream",
          "name": "stdout",
          "text": [
            "Error fetching financials for CIK 0001976443: 'us-gaap'\n"
          ]
        },
        {
          "output_type": "stream",
          "name": "stderr",
          "text": [
            "100%|██████████| 775/775 [05:47<00:00,  2.23it/s]"
          ]
        },
        {
          "output_type": "stream",
          "name": "stdout",
          "text": [
            "Error fetching financials for CIK 0001888151: 'us-gaap'\n",
            "✅ Data saved to 'enterprise_value.csv'\n"
          ]
        },
        {
          "output_type": "stream",
          "name": "stderr",
          "text": [
            "\n"
          ]
        }
      ]
    },
    {
      "cell_type": "code",
      "source": [
        "import pandas as pd\n",
        "\n",
        "# -------------------------------------------------------------------\n",
        "# LOAD RAW FINANCIALS AND ENTERPRISE VALUE DATASETS\n",
        "# -------------------------------------------------------------------\n",
        "raw_df = pd.read_csv(\"raw_financials.csv\")\n",
        "ev_df = pd.read_csv(\"enterprise_value.csv\")\n",
        "\n",
        "print(\"Raw Financials Columns:\", raw_df.columns.tolist())\n",
        "print(\"Enterprise Value Columns:\", ev_df.columns.tolist())\n",
        "\n",
        "# -------------------------------------------------------------------\n",
        "# STANDARDIZE COLUMN NAMES FOR MERGING\n",
        "# -------------------------------------------------------------------\n",
        "raw_df.rename(columns=lambda x: x.strip().capitalize(), inplace=True)\n",
        "ev_df.rename(columns=lambda x: x.strip().capitalize(), inplace=True)\n",
        "\n",
        "# -------------------------------------------------------------------\n",
        "# MERGE AND COMPUTE EV/SALES\n",
        "# -------------------------------------------------------------------\n",
        "if 'Ticker' in raw_df.columns and 'Year' in raw_df.columns and 'Enterprise_value' in ev_df.columns:\n",
        "    merged = pd.merge(raw_df, ev_df[['Ticker', 'Year', 'Enterprise_value']], on=['Ticker', 'Year'], how='left')\n",
        "    merged['Ev_sales'] = merged['Enterprise_value'] / merged['Revenue']\n",
        "    merged.drop(columns='Enterprise_value', inplace=True)\n",
        "\n",
        "    merged.to_csv(\"financials_with_ev_sales.csv\", index=False)\n",
        "    print(\"✅ Merged dataset with EV/Sales saved as 'financials_with_ev_sales.csv'\")\n",
        "else:\n",
        "    print(\"❌ Ticker or Year or Enterprise_value column not found in one of the datasets.\")"
      ],
      "metadata": {
        "colab": {
          "base_uri": "https://localhost:8080/"
        },
        "id": "iAFcaCShJidd",
        "outputId": "6200363b-a7f1-4bd0-824c-55092319a249"
      },
      "execution_count": null,
      "outputs": [
        {
          "output_type": "stream",
          "name": "stdout",
          "text": [
            "Raw Financials Columns: ['ticker', 'year', 'revenue', 'net_income', 'total_assets', 'current_ratio', 'debt_assets', 'asset_turnover', 'roa', 'revenue_growth', 'r_and_d_ratio', 'capex_ratio', 'net_income_margin', 'ocf_margin']\n",
            "Enterprise Value Columns: ['Ticker', 'Year', 'Market_Capitalization', 'Total_Debt', 'Cash_Equivalents', 'Enterprise_Value']\n",
            "✅ Merged dataset with EV/Sales saved as 'financials_with_ev_sales.csv'\n"
          ]
        }
      ]
    },
    {
      "cell_type": "code",
      "source": [
        "import pandas as pd\n",
        "\n",
        "# -------------------------------------------------------------------\n",
        "# LOAD LIFECYCLE AND FINANCIAL DATASETS\n",
        "# -------------------------------------------------------------------\n",
        "lifecycles_df = pd.read_csv(\"company_lifecycles.csv\")\n",
        "financials_df = pd.read_csv(\"financials_with_ev_sales.csv\")\n",
        "\n",
        "# -------------------------------------------------------------------\n",
        "# DROP UNNECESSARY COLUMNS\n",
        "# -------------------------------------------------------------------\n",
        "columns_to_drop = ['Operating_CF', 'Investing_CF', 'Financing_CF']\n",
        "lifecycles_df = lifecycles_df.drop(columns=[col for col in columns_to_drop if col in lifecycles_df.columns])\n",
        "financials_df = financials_df.drop(columns='Net_income')\n",
        "\n",
        "# -------------------------------------------------------------------\n",
        "# MERGE DATASETS ON TICKER AND YEAR\n",
        "# -------------------------------------------------------------------\n",
        "final_df = pd.merge(financials_df, lifecycles_df, on=['Ticker', 'Year'], how='left')\n",
        "\n",
        "# -------------------------------------------------------------------\n",
        "# SAVE FINAL MERGED DATASET\n",
        "# -------------------------------------------------------------------\n",
        "final_df.to_csv(\"raw_dataset.csv\", index=False)\n",
        "print(\"✅ Final dataset saved as 'raw_dataset.csv'\")"
      ],
      "metadata": {
        "id": "m_rgtLxxLUCN",
        "colab": {
          "base_uri": "https://localhost:8080/"
        },
        "outputId": "6291d422-f6b4-43f1-eac2-dcb8edc728bb"
      },
      "execution_count": null,
      "outputs": [
        {
          "output_type": "stream",
          "name": "stdout",
          "text": [
            "✅ Final dataset saved as 'raw_dataset.csv'\n"
          ]
        }
      ]
    }
  ]
}